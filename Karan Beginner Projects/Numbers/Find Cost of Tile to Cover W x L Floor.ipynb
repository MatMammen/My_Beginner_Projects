{
 "cells": [
  {
   "cell_type": "code",
   "execution_count": null,
   "metadata": {},
   "outputs": [],
   "source": [
    "print('Note: Calculation is unitless, but should remain consistent')\n",
    "N = int(input('How much does a square unit of tile cost? '))\n",
    "J = int(input('What is the width of the floor? '))\n",
    "K = int(input('What is the lenth of the floor? '))\n",
    "num = N * J * K\n",
    "print('The price will be: $' + str(num) )"
   ]
  }
 ],
 "metadata": {
  "kernelspec": {
   "display_name": "Python 3",
   "language": "python",
   "name": "python3"
  },
  "language_info": {
   "codemirror_mode": {
    "name": "ipython",
    "version": 3
   },
   "file_extension": ".py",
   "mimetype": "text/x-python",
   "name": "python",
   "nbconvert_exporter": "python",
   "pygments_lexer": "ipython3",
   "version": "3.7.4"
  }
 },
 "nbformat": 4,
 "nbformat_minor": 2
}
