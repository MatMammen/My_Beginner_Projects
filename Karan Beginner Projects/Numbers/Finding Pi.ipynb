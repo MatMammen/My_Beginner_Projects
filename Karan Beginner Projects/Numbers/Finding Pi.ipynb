{
 "cells": [
  {
   "cell_type": "code",
   "execution_count": 1,
   "metadata": {},
   "outputs": [
    {
     "name": "stdout",
     "output_type": "stream",
     "text": [
      "5\n",
      "PI(maxK=70 iterations, gc().prec=1008, disp=5 digits) =\n",
      "3.141\n"
     ]
    }
   ],
   "source": [
    "from decimal import Decimal as Dec, getcontext as gc    #Modified from Chunovsky Wikipedia for user input\n",
    "\n",
    "def PI(maxK: int = 70, prec: int = 1008):  \n",
    "    display = input()\n",
    "    disp = int(display)\n",
    "    gc().prec = prec\n",
    "    K, M, L, X, S = 6, 1, 13591409, 1, 13591409\n",
    "    for k in range(1, maxK + 1):\n",
    "        M = (K**3 - 16*K) * M // k**3 \n",
    "        L += 545140134\n",
    "        X *= -262537412640768000\n",
    "        S += Dec(M * L) / X\n",
    "        K += 12\n",
    "    pi = 426880 * Dec(10005).sqrt() / S\n",
    "    pi = Dec(str(pi)[:disp])  # Drop few digits of precision for accuracy\n",
    "    print(\"PI(maxK={} iterations, gc().prec={}, disp={} digits) =\\n{}\".format(maxK, prec, disp, pi))\n",
    "    return pi\n",
    "\n",
    "Pi = PI()"
   ]
  },
  {
   "cell_type": "code",
   "execution_count": null,
   "metadata": {},
   "outputs": [],
   "source": []
  }
 ],
 "metadata": {
  "kernelspec": {
   "display_name": "Python 3",
   "language": "python",
   "name": "python3"
  },
  "language_info": {
   "codemirror_mode": {
    "name": "ipython",
    "version": 3
   },
   "file_extension": ".py",
   "mimetype": "text/x-python",
   "name": "python",
   "nbconvert_exporter": "python",
   "pygments_lexer": "ipython3",
   "version": "3.7.4"
  }
 },
 "nbformat": 4,
 "nbformat_minor": 2
}
