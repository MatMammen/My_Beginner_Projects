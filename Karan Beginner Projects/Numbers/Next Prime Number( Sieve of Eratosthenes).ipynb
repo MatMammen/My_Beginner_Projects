{
 "cells": [
  {
   "cell_type": "code",
   "execution_count": null,
   "metadata": {
    "scrolled": false
   },
   "outputs": [
    {
     "name": "stdout",
     "output_type": "stream",
     "text": [
      "Press next if you want another prime number: next\n",
      "2\n",
      "Press next if you want another prime number: next\n",
      "3\n",
      "Press next if you want another prime number: next\n",
      "5\n"
     ]
    }
   ],
   "source": [
    "n = 1000 #adjustable range\n",
    "p = 2\n",
    "elist = []\n",
    "for i in range (2, n):\n",
    "    elist.append(i)\n",
    "for i in range (0, 1000):\n",
    "    num = p * (p+i)\n",
    "    if num in elist: elist.remove(num)\n",
    "for i in range(0,1000):\n",
    "    for n in range(0,100):\n",
    "        p = elist[n]\n",
    "        num = p * (p+i)\n",
    "        if num in elist: elist.remove(num)\n",
    "J = len(elist)\n",
    "for i in range(J):\n",
    "    N = input('Press next if you want another prime number: ') \n",
    "    if N == 'next':\n",
    "        print(str(elist[i]))\n",
    "    else:\n",
    "        break"
   ]
  },
  {
   "cell_type": "code",
   "execution_count": null,
   "metadata": {},
   "outputs": [],
   "source": []
  }
 ],
 "metadata": {
  "kernelspec": {
   "display_name": "Python 3",
   "language": "python",
   "name": "python3"
  },
  "language_info": {
   "codemirror_mode": {
    "name": "ipython",
    "version": 3
   },
   "file_extension": ".py",
   "mimetype": "text/x-python",
   "name": "python",
   "nbconvert_exporter": "python",
   "pygments_lexer": "ipython3",
   "version": "3.7.4"
  }
 },
 "nbformat": 4,
 "nbformat_minor": 2
}
