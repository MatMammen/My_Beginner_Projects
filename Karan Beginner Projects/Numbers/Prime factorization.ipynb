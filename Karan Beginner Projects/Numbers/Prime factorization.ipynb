{
 "cells": [
  {
   "cell_type": "code",
   "execution_count": 20,
   "metadata": {},
   "outputs": [
    {
     "name": "stdout",
     "output_type": "stream",
     "text": [
      "Enter a number: 10\n",
      "[2, 5]\n",
      "1.0 is the remaining factor\n"
     ]
    }
   ],
   "source": [
    "num = int(input('Enter a number: '))\n",
    "plist = []\n",
    "while (num % 2) == 0:\n",
    "    num = num/2\n",
    "    num1 = 2\n",
    "    plist.append(num1)\n",
    "while (num % 3) == 0:\n",
    "    num = num/3\n",
    "    num1 = 3\n",
    "    plist.append(num1)\n",
    "while (num % 5) == 0:\n",
    "    num = num/5\n",
    "    num1 = 5\n",
    "    plist.append(num1)\n",
    "while (num % 7) == 0:\n",
    "    num = num/7\n",
    "    num1 = 7\n",
    "    plist.append(num1)\n",
    "while (num % 11) == 0:\n",
    "    num = num/11\n",
    "    num1 = 11\n",
    "    plist.append(num1)\n",
    "while (num % 13) == 0:\n",
    "    num = num/13\n",
    "    num1 = 13\n",
    "    plist.append(num1)\n",
    "while (num % 17) == 0:\n",
    "    num = num/17\n",
    "    num1 = 17\n",
    "    plist.append(num1)\n",
    "while (num % 19) == 0:\n",
    "    num = num/19\n",
    "    num1 = 19\n",
    "    plist.append(num1)\n",
    "print(plist)\n",
    "print(str(num) + ' is the remaining factor')"
   ]
  },
  {
   "cell_type": "code",
   "execution_count": null,
   "metadata": {},
   "outputs": [],
   "source": []
  }
 ],
 "metadata": {
  "kernelspec": {
   "display_name": "Python 3",
   "language": "python",
   "name": "python3"
  },
  "language_info": {
   "codemirror_mode": {
    "name": "ipython",
    "version": 3
   },
   "file_extension": ".py",
   "mimetype": "text/x-python",
   "name": "python",
   "nbconvert_exporter": "python",
   "pygments_lexer": "ipython3",
   "version": "3.7.4"
  }
 },
 "nbformat": 4,
 "nbformat_minor": 2
}
