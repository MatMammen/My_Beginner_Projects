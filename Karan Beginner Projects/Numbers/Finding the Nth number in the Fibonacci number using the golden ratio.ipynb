{
 "cells": [
  {
   "cell_type": "code",
   "execution_count": 6,
   "metadata": {},
   "outputs": [
    {
     "name": "stdout",
     "output_type": "stream",
     "text": [
      "Enter the desired sequence number of Fibonacci number 6\n",
      "8.000000000003102\n"
     ]
    }
   ],
   "source": [
    "import math \n",
    "Seqnum = int(input('Enter the desired sequence number of Fibonacci number '))\n",
    "Golrat = 1.61803398875\n",
    "root5 = math.sqrt(5)\n",
    "Fibnum = (((Golrat)**Seqnum)-((Golrat - 1)**Seqnum))/root5\n",
    "print(Fibnum)"
   ]
  },
  {
   "cell_type": "code",
   "execution_count": null,
   "metadata": {},
   "outputs": [],
   "source": []
  }
 ],
 "metadata": {
  "kernelspec": {
   "display_name": "Python 3",
   "language": "python",
   "name": "python3"
  },
  "language_info": {
   "codemirror_mode": {
    "name": "ipython",
    "version": 3
   },
   "file_extension": ".py",
   "mimetype": "text/x-python",
   "name": "python",
   "nbconvert_exporter": "python",
   "pygments_lexer": "ipython3",
   "version": "3.7.4"
  }
 },
 "nbformat": 4,
 "nbformat_minor": 2
}
