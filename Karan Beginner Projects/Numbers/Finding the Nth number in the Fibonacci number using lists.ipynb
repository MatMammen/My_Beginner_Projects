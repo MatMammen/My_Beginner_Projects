{
 "cells": [
  {
   "cell_type": "code",
   "execution_count": 20,
   "metadata": {},
   "outputs": [
    {
     "name": "stdout",
     "output_type": "stream",
     "text": [
      "What numbered sequence from the fibonacci sequence would you like? 200\n",
      "The fibonaaci number is: 280571172992510140037611932413038677189525\n"
     ]
    }
   ],
   "source": [
    "flist = [1, 1]\n",
    "J = int(input('What numbered sequence from the fibonacci sequence would you like? '))\n",
    "for _ in range(J):\n",
    "    num = sum(flist[-2:])\n",
    "    flist.append(num)\n",
    "print('The fibonaaci number is: ', end = '')\n",
    "print(flist[-3])\n",
    "    "
   ]
  },
  {
   "cell_type": "code",
   "execution_count": null,
   "metadata": {},
   "outputs": [],
   "source": []
  }
 ],
 "metadata": {
  "kernelspec": {
   "display_name": "Python 3",
   "language": "python",
   "name": "python3"
  },
  "language_info": {
   "codemirror_mode": {
    "name": "ipython",
    "version": 3
   },
   "file_extension": ".py",
   "mimetype": "text/x-python",
   "name": "python",
   "nbconvert_exporter": "python",
   "pygments_lexer": "ipython3",
   "version": "3.7.4"
  }
 },
 "nbformat": 4,
 "nbformat_minor": 2
}
