{
 "cells": [
  {
   "cell_type": "code",
   "execution_count": 5,
   "metadata": {},
   "outputs": [
    {
     "name": "stdout",
     "output_type": "stream",
     "text": [
      "How many factorials? 5\n",
      "How many digits? 5\n",
      "2.7083\n"
     ]
    }
   ],
   "source": [
    "import math\n",
    "\n",
    "elist = []\n",
    "n = int(input('How many factorials? ')) \n",
    "d = (input('How many digits? ')) \n",
    "for i in range(n):\n",
    "    evalue = 1 / math.factorial(i)\n",
    "    elist.append(evalue)\n",
    "SUM = sum(elist)\n",
    "dig = ('.' + d+'g')\n",
    "SUMFIN = format(SUM, dig)\n",
    "print(SUMFIN)"
   ]
  },
  {
   "cell_type": "code",
   "execution_count": null,
   "metadata": {},
   "outputs": [],
   "source": []
  }
 ],
 "metadata": {
  "kernelspec": {
   "display_name": "Python 3",
   "language": "python",
   "name": "python3"
  },
  "language_info": {
   "codemirror_mode": {
    "name": "ipython",
    "version": 3
   },
   "file_extension": ".py",
   "mimetype": "text/x-python",
   "name": "python",
   "nbconvert_exporter": "python",
   "pygments_lexer": "ipython3",
   "version": "3.7.4"
  }
 },
 "nbformat": 4,
 "nbformat_minor": 2
}
