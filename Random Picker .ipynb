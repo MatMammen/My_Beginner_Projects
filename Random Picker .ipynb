{
 "cells": [
  {
   "cell_type": "code",
   "execution_count": 3,
   "metadata": {},
   "outputs": [
    {
     "name": "stdout",
     "output_type": "stream",
     "text": [
      "Option 1\n"
     ]
    }
   ],
   "source": [
    "import random\n",
    "\n",
    "def getAnswer(answerNumber):\n",
    "    if answerNumber == 1:\n",
    "        return 'Option 1'   # Replace options with your random picker choices\n",
    "    elif answerNumber == 2:\n",
    "        return 'Option 2'\n",
    "    elif answerNumber == 3:\n",
    "        return 'Option 3'\n",
    "    elif answerNumber == 4:\n",
    "        return 'Option 4'\n",
    "    elif answerNumber == 5:\n",
    "        return 'Option 5'\n",
    "    elif answerNumber == 6:\n",
    "        return 'Option 6'\n",
    "    elif answerNumber == 7:\n",
    "        return 'Option 7'\n",
    "    elif answerNumber == 8:\n",
    "        return 'Option 8'\n",
    "    elif answerNumber == 9:\n",
    "        return 'Option 9'\n",
    "print(getAnswer(random.randint(1, 9)))"
   ]
  },
  {
   "cell_type": "code",
   "execution_count": null,
   "metadata": {},
   "outputs": [],
   "source": []
  }
 ],
 "metadata": {
  "kernelspec": {
   "display_name": "Python 3",
   "language": "python",
   "name": "python3"
  },
  "language_info": {
   "codemirror_mode": {
    "name": "ipython",
    "version": 3
   },
   "file_extension": ".py",
   "mimetype": "text/x-python",
   "name": "python",
   "nbconvert_exporter": "python",
   "pygments_lexer": "ipython3",
   "version": "3.7.4"
  }
 },
 "nbformat": 4,
 "nbformat_minor": 2
}
